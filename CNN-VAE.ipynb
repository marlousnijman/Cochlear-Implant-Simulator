{
 "cells": [
  {
   "cell_type": "markdown",
   "metadata": {},
   "source": [
    "# CNN-VAE"
   ]
  },
  {
   "cell_type": "markdown",
   "metadata": {},
   "source": [
    "### Install Required Packages"
   ]
  },
  {
   "cell_type": "code",
   "execution_count": 1,
   "metadata": {},
   "outputs": [
    {
     "name": "stdout",
     "output_type": "stream",
     "text": [
      "Requirement already satisfied: pydub in /home/s4551400b/anaconda3/lib/python3.7/site-packages (0.23.1)\n",
      "Requirement already satisfied: librosa in /home/s4551400b/anaconda3/lib/python3.7/site-packages (0.6.3)\n",
      "Requirement already satisfied: numba>=0.38.0 in /home/s4551400b/anaconda3/lib/python3.7/site-packages (from librosa) (0.43.1)\n",
      "Requirement already satisfied: joblib>=0.12 in /home/s4551400b/anaconda3/lib/python3.7/site-packages (from librosa) (0.13.2)\n",
      "Requirement already satisfied: scikit-learn!=0.19.0,>=0.14.0 in /home/s4551400b/anaconda3/lib/python3.7/site-packages (from librosa) (0.20.3)\n",
      "Requirement already satisfied: scipy>=1.0.0 in /home/s4551400b/anaconda3/lib/python3.7/site-packages (from librosa) (1.2.1)\n",
      "Requirement already satisfied: numpy>=1.8.0 in /home/s4551400b/anaconda3/lib/python3.7/site-packages (from librosa) (1.16.2)\n",
      "Requirement already satisfied: decorator>=3.0.0 in /home/s4551400b/anaconda3/lib/python3.7/site-packages (from librosa) (4.4.0)\n",
      "Requirement already satisfied: six>=1.3 in /home/s4551400b/anaconda3/lib/python3.7/site-packages (from librosa) (1.12.0)\n",
      "Requirement already satisfied: audioread>=2.0.0 in /home/s4551400b/anaconda3/lib/python3.7/site-packages (from librosa) (2.1.7)\n",
      "Requirement already satisfied: resampy>=0.2.0 in /home/s4551400b/anaconda3/lib/python3.7/site-packages (from librosa) (0.2.1)\n",
      "Requirement already satisfied: llvmlite>=0.28.0dev0 in /home/s4551400b/anaconda3/lib/python3.7/site-packages (from numba>=0.38.0->librosa) (0.28.0)\n",
      "Collecting package metadata: done\n",
      "Solving environment: done\n",
      "\n",
      "## Package Plan ##\n",
      "\n",
      "  environment location: /home/s4551400b/anaconda3\n",
      "\n",
      "  added / updated specs:\n",
      "    - cudatoolkit=9.0\n",
      "    - pytorch\n",
      "    - torchvision\n",
      "\n",
      "\n",
      "The following packages will be downloaded:\n",
      "\n",
      "    package                    |            build\n",
      "    ---------------------------|-----------------\n",
      "    certifi-2019.3.9           |           py37_0         155 KB\n",
      "    torchvision-0.3.0          | py37_cu9.0.176_1         3.7 MB  pytorch\n",
      "    ------------------------------------------------------------\n",
      "                                           Total:         3.8 MB\n",
      "\n",
      "The following packages will be UPDATED:\n",
      "\n",
      "  torchvision        pytorch/noarch::torchvision-0.2.2-py_3 --> pytorch/linux-64::torchvision-0.3.0-py37_cu9.0.176_1\n",
      "\n",
      "The following packages will be SUPERSEDED by a higher-priority channel:\n",
      "\n",
      "  certifi                                       conda-forge --> pkgs/main\n",
      "\n",
      "\n",
      "\n",
      "Downloading and Extracting Packages\n",
      "torchvision-0.3.0    | 3.7 MB    | ##################################### | 100% \n",
      "certifi-2019.3.9     | 155 KB    | ##################################### | 100% \n",
      "Preparing transaction: done\n",
      "Verifying transaction: done\n",
      "Executing transaction: done\n",
      "Collecting package metadata: done\n",
      "Solving environment: done\n",
      "\n",
      "## Package Plan ##\n",
      "\n",
      "  environment location: /home/s4551400b/anaconda3\n",
      "\n",
      "  added / updated specs:\n",
      "    - torchvision\n",
      "\n",
      "\n",
      "The following packages will be downloaded:\n",
      "\n",
      "    package                    |            build\n",
      "    ---------------------------|-----------------\n",
      "    conda-4.6.14               |           py37_0         2.1 MB\n",
      "    ------------------------------------------------------------\n",
      "                                           Total:         2.1 MB\n",
      "\n",
      "The following packages will be SUPERSEDED by a higher-priority channel:\n",
      "\n",
      "  conda                                         conda-forge --> pkgs/main\n",
      "\n",
      "\n",
      "\n",
      "Downloading and Extracting Packages\n",
      "conda-4.6.14         | 2.1 MB    | ##################################### | 100% \n",
      "Preparing transaction: done\n",
      "Verifying transaction: done\n",
      "Executing transaction: done\n",
      "Collecting package metadata: done\n",
      "Solving environment: done\n",
      "\n",
      "## Package Plan ##\n",
      "\n",
      "  environment location: /home/s4551400b/anaconda3\n",
      "\n",
      "  added / updated specs:\n",
      "    - ffmpeg\n",
      "\n",
      "\n",
      "The following packages will be downloaded:\n",
      "\n",
      "    package                    |            build\n",
      "    ---------------------------|-----------------\n",
      "    certifi-2019.3.9           |           py37_0         149 KB  conda-forge\n",
      "    conda-4.6.14               |           py37_0         2.1 MB  conda-forge\n",
      "    ------------------------------------------------------------\n",
      "                                           Total:         2.2 MB\n",
      "\n",
      "The following packages will be SUPERSEDED by a higher-priority channel:\n",
      "\n",
      "  certifi                                         pkgs/main --> conda-forge\n",
      "  conda                                           pkgs/main --> conda-forge\n",
      "\n",
      "\n",
      "\n",
      "Downloading and Extracting Packages\n",
      "certifi-2019.3.9     | 149 KB    | ##################################### | 100% \n",
      "conda-4.6.14         | 2.1 MB    | ##################################### | 100% \n",
      "Preparing transaction: done\n",
      "Verifying transaction: done\n",
      "Executing transaction: done\n"
     ]
    }
   ],
   "source": [
    "!pip install pydub\n",
    "!pip install librosa\n",
    "!conda install pytorch torchvision cudatoolkit=9.0 -c pytorch --yes \n",
    "!conda install torchvision --yes\n",
    "!conda install -c conda-forge ffmpeg --yes"
   ]
  },
  {
   "cell_type": "markdown",
   "metadata": {},
   "source": [
    "### Import All Libraries"
   ]
  },
  {
   "cell_type": "code",
   "execution_count": 2,
   "metadata": {},
   "outputs": [],
   "source": [
    "import compute_frequency_ranges as freqs\n",
    "import cochlear_implant_simulator as sim\n",
    "import spectrogram as spec\n",
    "import helper_functions as func\n",
    "import numpy as np\n",
    "import matplotlib.pyplot as plt\n",
    "import torch\n",
    "import torch.utils.data\n",
    "import torch.nn as nn\n",
    "import torch.nn.functional as F\n",
    "import librosa\n",
    "import os\n",
    "\n",
    "from scipy.io import wavfile"
   ]
  },
  {
   "cell_type": "markdown",
   "metadata": {},
   "source": [
    "### File/Directory Names"
   ]
  },
  {
   "cell_type": "code",
   "execution_count": 4,
   "metadata": {},
   "outputs": [],
   "source": [
    "### Original Data\n",
    "  # Training\n",
    "training_noisy_dir = \"noisy_trainset_28spk_wav\"\n",
    "training_clean_dir = \"clean_trainset_28spk_wav\"    \n",
    "  # Testing\n",
    "testing_noisy_dir = \"noisy_testset_wav\"\n",
    "testing_clean_dir = \"clean_testset_wav\"\n",
    "\n",
    "### Resampled Data\n",
    "  # Training\n",
    "training_noisy_dir_resampled = training_noisy_dir + \"_resampled\"\n",
    "training_clean_dir_resampled = training_clean_dir + \"_resampled\"\n",
    " # Testing     \n",
    "testing_noisy_dir_resampled = testing_noisy_dir + \"_resampled\"\n",
    "testing_clean_dir_resampled = testing_clean_dir + \"_resampled\"\n",
    "    \n",
    "### Chunk Data\n",
    "  # Training\n",
    "training_noisy_dir_chunks = training_noisy_dir + \"_chunks\"\n",
    "training_clean_dir_chunks = training_clean_dir + \"_chunks\"\n",
    "  # Training\n",
    "testing_noisy_dir_chunks = testing_noisy_dir + \"_chunks\"\n",
    "testing_clean_dir_chunks = testing_clean_dir + \"_chunks\"\n",
    "    \n",
    "### Trained Model\n",
    "trainedVAE = \"trainedVAE.pth\"\n",
    "    \n",
    "### Testing Results\n",
    "testing_results_dir = \"testset_results_wav\"\n",
    "    \n",
    "### Simulated Data\n",
    "    # Original \n",
    "testing_noisy_dir_simulated = testing_noisy_dir + \"_simulated\"\n",
    "    # Processed\n",
    "testing_results_dir_simulated = testing_results_dir + \"_simulated\""
   ]
  },
  {
   "cell_type": "markdown",
   "metadata": {},
   "source": [
    "### Resample\n",
    "\n",
    "Resamples the sound fragments from 48000Hz down to 16000Hz, while maintaining the same lenght of the samples."
   ]
  },
  {
   "cell_type": "markdown",
   "metadata": {},
   "source": [
    "#### Rate"
   ]
  },
  {
   "cell_type": "code",
   "execution_count": 3,
   "metadata": {},
   "outputs": [],
   "source": [
    "new_rate = 16000"
   ]
  },
  {
   "cell_type": "markdown",
   "metadata": {},
   "source": [
    "#### Training Data"
   ]
  },
  {
   "cell_type": "code",
   "execution_count": 16,
   "metadata": {},
   "outputs": [],
   "source": [
    "func.resample(training_noisy_dir, training_noisy_dir_resampled, new_rate)"
   ]
  },
  {
   "cell_type": "code",
   "execution_count": 22,
   "metadata": {},
   "outputs": [],
   "source": [
    "func.resample(training_clean_dir, training_clean_dir_resampled, new_rate)"
   ]
  },
  {
   "cell_type": "markdown",
   "metadata": {},
   "source": [
    "#### Testing Data"
   ]
  },
  {
   "cell_type": "code",
   "execution_count": 13,
   "metadata": {},
   "outputs": [],
   "source": [
    "func.resample(testing_noisy_dir, testing_noisy_dir_resampled, new_rate)"
   ]
  },
  {
   "cell_type": "code",
   "execution_count": 14,
   "metadata": {},
   "outputs": [],
   "source": [
    "func.resample(testing_clean_dir, testing_clean_dir_resampled, new_rate)"
   ]
  },
  {
   "cell_type": "markdown",
   "metadata": {},
   "source": [
    "### Divide Data Into Chunks \n",
    "\n",
    "The sound fragments are divided into chunks of equal size (chunk_lenght_ms), resulting in an array of size data_len."
   ]
  },
  {
   "cell_type": "markdown",
   "metadata": {},
   "source": [
    "#### Parameters"
   ]
  },
  {
   "cell_type": "code",
   "execution_count": 6,
   "metadata": {},
   "outputs": [],
   "source": [
    "chunk_length_ms = 250\n",
    "data_len = 4000"
   ]
  },
  {
   "cell_type": "markdown",
   "metadata": {},
   "source": [
    "#### Make Chunks"
   ]
  },
  {
   "cell_type": "code",
   "execution_count": null,
   "metadata": {},
   "outputs": [],
   "source": [
    "func.create_chunks(training_noisy_dir_resampled, training_noisy_dir_chunks, chunk_length_ms)\n",
    "func.create_chunks(training_clean_dir_resampled, training_clean_dir_chunks, chunk_length_ms)"
   ]
  },
  {
   "cell_type": "code",
   "execution_count": 794,
   "metadata": {},
   "outputs": [],
   "source": [
    "func.create_chunks(testing_noisy_dir_resampled, testing_noisy_dir_chunks, chunk_length_ms)\n",
    "func.create_chunks(testing_clean_dir_resampled, testing_clean_dir_chunks, chunk_length_ms)"
   ]
  },
  {
   "cell_type": "markdown",
   "metadata": {},
   "source": [
    "### Load Data\n",
    "\n",
    "Load in both the training and testing data. The noisy and clean samples are zipped to form tuples. These tuples will be used as input to the network."
   ]
  },
  {
   "cell_type": "markdown",
   "metadata": {},
   "source": [
    "#### Training Data"
   ]
  },
  {
   "cell_type": "code",
   "execution_count": 5,
   "metadata": {},
   "outputs": [],
   "source": [
    "training_noisy_data = func.load_data(training_noisy_dir_chunks, data_len)"
   ]
  },
  {
   "cell_type": "code",
   "execution_count": 6,
   "metadata": {},
   "outputs": [],
   "source": [
    "training_clean_data = func.load_data(training_clean_dir_chunks, data_len)"
   ]
  },
  {
   "cell_type": "code",
   "execution_count": 7,
   "metadata": {},
   "outputs": [],
   "source": [
    "training_data = list(zip(training_noisy_data, training_clean_data))"
   ]
  },
  {
   "cell_type": "markdown",
   "metadata": {},
   "source": [
    "#### Testing Data"
   ]
  },
  {
   "cell_type": "code",
   "execution_count": 8,
   "metadata": {},
   "outputs": [],
   "source": [
    "testing_noisy_data = func.load_data(testing_noisy_dir_chunks, data_len)"
   ]
  },
  {
   "cell_type": "code",
   "execution_count": 10,
   "metadata": {},
   "outputs": [],
   "source": [
    "testing_clean_data = func.load_data(testing_clean_dir_chunks, data_len)"
   ]
  },
  {
   "cell_type": "code",
   "execution_count": 11,
   "metadata": {},
   "outputs": [],
   "source": [
    "testing_data = list(zip(testing_noisy_data, testing_clean_data))"
   ]
  },
  {
   "cell_type": "markdown",
   "metadata": {},
   "source": [
    "### Neural Nework"
   ]
  },
  {
   "cell_type": "markdown",
   "metadata": {},
   "source": [
    "#### Parameters"
   ]
  },
  {
   "cell_type": "code",
   "execution_count": 12,
   "metadata": {},
   "outputs": [],
   "source": [
    "bottle_neck = 2000\n",
    "train_batch_size = 1024\n",
    "test_batch_size = 1024\n",
    "h_layer = 512 * 2 * 3\n",
    "im_size = 112 * 256\n",
    "learning_rate = 1e-4"
   ]
  },
  {
   "cell_type": "markdown",
   "metadata": {},
   "source": [
    "#### Create Training Dataloaders"
   ]
  },
  {
   "cell_type": "code",
   "execution_count": 13,
   "metadata": {},
   "outputs": [],
   "source": [
    "len_training_data = len(training_data) "
   ]
  },
  {
   "cell_type": "code",
   "execution_count": 14,
   "metadata": {},
   "outputs": [
    {
     "name": "stdout",
     "output_type": "stream",
     "text": [
      "torch.Size([140925, 2, 4000])\n"
     ]
    }
   ],
   "source": [
    "train_tensor = torch.tensor(training_data, dtype = torch.float32)\n",
    "print(train_tensor.shape)"
   ]
  },
  {
   "cell_type": "code",
   "execution_count": 15,
   "metadata": {},
   "outputs": [],
   "source": [
    "train_size = int(0.95 * len_training_data)\n",
    "val_size = len_training_data - train_size"
   ]
  },
  {
   "cell_type": "code",
   "execution_count": 16,
   "metadata": {},
   "outputs": [],
   "source": [
    "train_set, val_set = torch.utils.data.random_split(train_tensor[0:len_training_data], (train_size, val_size))"
   ]
  },
  {
   "cell_type": "code",
   "execution_count": 17,
   "metadata": {},
   "outputs": [],
   "source": [
    "train_loader = torch.utils.data.DataLoader(train_set, batch_size=train_batch_size, shuffle=True)\n",
    "val_loader = torch.utils.data.DataLoader(val_set, batch_size=train_batch_size, shuffle=True)"
   ]
  },
  {
   "cell_type": "markdown",
   "metadata": {},
   "source": [
    "#### Create Testing Dataloaders"
   ]
  },
  {
   "cell_type": "code",
   "execution_count": 18,
   "metadata": {},
   "outputs": [
    {
     "name": "stdout",
     "output_type": "stream",
     "text": [
      "torch.Size([8689, 2, 4000])\n"
     ]
    }
   ],
   "source": [
    "test_tensor = torch.tensor(testing_data, dtype = torch.float32)\n",
    "print(test_tensor.shape)"
   ]
  },
  {
   "cell_type": "code",
   "execution_count": 19,
   "metadata": {},
   "outputs": [],
   "source": [
    "test_loader = torch.utils.data.DataLoader(test_tensor, batch_size = test_batch_size, shuffle=False)"
   ]
  },
  {
   "cell_type": "markdown",
   "metadata": {},
   "source": [
    "#### Model"
   ]
  },
  {
   "cell_type": "code",
   "execution_count": 20,
   "metadata": {},
   "outputs": [],
   "source": [
    "class VAE(nn.Module):\n",
    "\n",
    "    def __init__(self, bottle_neck = bottle_neck, h_layer = h_layer):\n",
    "        super(VAE, self).__init__()\n",
    "        \n",
    "        # Encoder\n",
    "        self.conv1 = nn.Conv2d(1, 16, kernel_size=(5,5), stride=1)\n",
    "        nn.init.xavier_uniform_(self.conv1.weight)\n",
    "        self.maxpool1 = nn.MaxPool2d(kernel_size=2, stride=2, return_indices=True)        \n",
    "        self.conv2 = nn.Conv2d(16, 32, kernel_size=(5,5), stride=1)\n",
    "        nn.init.xavier_uniform_(self.conv2.weight)\n",
    "        self.maxpool2 = nn.MaxPool2d(kernel_size=2, stride=2, return_indices=True)        \n",
    "        self.conv3 = nn.Conv2d(32, 64, kernel_size=(4,4), stride=1)\n",
    "        nn.init.xavier_uniform_(self.conv3.weight)\n",
    "        self.maxpool3 = nn.MaxPool2d(kernel_size=2, stride=2, return_indices=True)        \n",
    "        self.conv4 = nn.Conv2d(64, 128, kernel_size=(4,4), stride=1)\n",
    "        nn.init.xavier_uniform_(self.conv4.weight)\n",
    "        self.maxpool4 = nn.MaxPool2d(kernel_size=2, stride=2, return_indices=True)        \n",
    "        self.conv5 = nn.Conv2d(128, 256, kernel_size=(1,4), stride=1)\n",
    "        nn.init.xavier_uniform_(self.conv5.weight)\n",
    "        self.maxpool5 = nn.MaxPool2d(kernel_size=2, stride=2, return_indices=True)        \n",
    "        self.conv6 = nn.Conv2d(256, 512, kernel_size=(1,3), stride=1)\n",
    "        nn.init.xavier_uniform_(self.conv6.weight)\n",
    "        \n",
    "        # Reparameterize\n",
    "        self.f11 = nn.Linear(h_layer, bottle_neck)\n",
    "        self.f12 = nn.Linear(h_layer, bottle_neck)\n",
    "        self.f2 = nn.Linear(bottle_neck, h_layer)\n",
    "        \n",
    "        #  Decoder\n",
    "        self.deconv6 = nn.ConvTranspose2d(512, 256, kernel_size=(1,3), stride=1)        \n",
    "        self.deconv5 = nn.ConvTranspose2d(256, 128, kernel_size=(1,4), stride=1)\n",
    "        self.maxunpool5 = nn.MaxUnpool2d(kernel_size=2, stride=2)        \n",
    "        self.deconv4 = nn.ConvTranspose2d(128, 64, kernel_size=(4,4), stride=1)\n",
    "        self.maxunpool4 = nn.MaxUnpool2d(kernel_size=2, stride=2)        \n",
    "        self.deconv3 = nn.ConvTranspose2d(64, 32, kernel_size=(4,4), stride=1)\n",
    "        self.maxunpool3 = nn.MaxUnpool2d(kernel_size=2, stride=2)        \n",
    "        self.deconv2 = nn.ConvTranspose2d(32, 16, kernel_size=(5,5), stride=1)\n",
    "        self.maxunpool2 = nn.MaxUnpool2d(kernel_size=2, stride=2)        \n",
    "        self.deconv1 = nn.ConvTranspose2d(16, 1, kernel_size=(5,5), stride=1)\n",
    "        self.maxunpool1 = nn.MaxUnpool2d(kernel_size=2, stride=2)       \n",
    "    \n",
    "    \n",
    "    def reparameterize(self, mu, logvar):\n",
    "        std = torch.exp(0.5 * logvar)\n",
    "        eps = torch.randn_like(std)\n",
    "        return mu + eps * std\n",
    "    \n",
    "\n",
    "    def forward(self, x):\n",
    "        \n",
    "        # Encoder\n",
    "        enc = F.relu(self.conv1(x))\n",
    "        enc, mp1 = self.maxpool1(enc)        \n",
    "        enc = F.relu(self.conv2(enc))\n",
    "        enc, mp2 = self.maxpool2(enc)        \n",
    "        enc = F.relu(self.conv3(enc))\n",
    "        enc, mp3 = self.maxpool3(enc)        \n",
    "        enc = F.relu(self.conv4(enc))\n",
    "        enc, mp4 = self.maxpool4(enc)        \n",
    "        enc = F.relu(self.conv5(enc))\n",
    "        enc, mp5 = self.maxpool5(enc)        \n",
    "        enc = F.relu(self.conv6(enc))\n",
    "        \n",
    "        # Reparameterize\n",
    "        mu = self.f11(enc.view(enc.size(0), -1))\n",
    "        logvar = self.f12(enc.view(enc.size(0), -1))\n",
    "        z = self.reparameterize(mu, logvar)\n",
    "        \n",
    "        # Decoder\n",
    "        dec = F.relu(self.f2(z)).view(z.size(0), 512, 2, 3)        \n",
    "        dec = F.relu(self.deconv6(dec))        \n",
    "        dec = self.maxunpool5(dec, mp5)\n",
    "        dec = F.relu(self.deconv5(dec))        \n",
    "        dec = self.maxunpool4(dec, mp4)\n",
    "        dec = F.relu(self.deconv4(dec))        \n",
    "        dec = self.maxunpool3(dec, mp3)\n",
    "        dec = F.relu(self.deconv3(dec))        \n",
    "        dec = self.maxunpool2(dec, mp2)\n",
    "        dec = F.relu(self.deconv2(dec))        \n",
    "        dec = self.maxunpool1(dec, mp1)\n",
    "        \n",
    "        return torch.sigmoid(self.deconv1(dec)), mu, logvar\n",
    "\n",
    "vae = VAE()"
   ]
  },
  {
   "cell_type": "markdown",
   "metadata": {},
   "source": [
    "#### Optimizer"
   ]
  },
  {
   "cell_type": "code",
   "execution_count": 21,
   "metadata": {},
   "outputs": [],
   "source": [
    "optimizer = torch.optim.Adam(vae.parameters(), lr=learning_rate)"
   ]
  },
  {
   "cell_type": "markdown",
   "metadata": {},
   "source": [
    "#### Loss Function"
   ]
  },
  {
   "cell_type": "code",
   "execution_count": 22,
   "metadata": {},
   "outputs": [],
   "source": [
    "def loss_function(recon_x, x, mu, logvar):\n",
    "    \n",
    "    generative_loss = F.mse_loss(recon_x.view(-1, im_size), x.view(-1, im_size))\n",
    "\n",
    "    # see Appendix B from:\n",
    "    # Kingma, D. P., &amp; Welling, M. (2014). Auto-Encoding Variational Bayes. Proceedings of the 2nd \n",
    "    # International Conference on Learning Representations (ICLR). Banff, Canada: arXiv: 1312.6114\n",
    "    # v10 [stat. ML].\n",
    "    KLD = -0.5 * torch.sum(1 + logvar - mu.pow(2) - logvar.exp())\n",
    "\n",
    "    return generative_loss + KLD "
   ]
  },
  {
   "cell_type": "markdown",
   "metadata": {},
   "source": [
    "#### Training"
   ]
  },
  {
   "cell_type": "code",
   "execution_count": 23,
   "metadata": {},
   "outputs": [],
   "source": [
    "def train(epochs):\n",
    "    train_losses = []\n",
    "    val_losses = []\n",
    "    \n",
    "    for epoch in range(epochs):\n",
    "        vae.train()\n",
    "        train_loss = 0\n",
    "        \n",
    "        for batch, data in enumerate(train_loader):\n",
    "            noisy_data, clean_data = func.process_batch(data)\n",
    "            optimizer.zero_grad()\n",
    "            result, mu, logvar = vae(noisy_data)\n",
    "            loss = loss_function(result, clean_data, mu, logvar)\n",
    "            loss.backward()\n",
    "            optimizer.step()\n",
    "            train_loss += loss.item()\n",
    "\n",
    "            if batch % 10 == 0:\n",
    "                print(\"Train Epoch: \", epoch, \"[\", batch * len(data), \"/\", len(train_loader.dataset), \"]\",\n",
    "                      \"\\tLoss: \", loss.item() / len(data))\n",
    "\n",
    "        train_losses.append(train_loss/len(train_loader.dataset))\n",
    "    \n",
    "        vae.eval()\n",
    "        val_loss = 0\n",
    "        \n",
    "        for val_batch, val_data in enumerate(val_loader):\n",
    "            noisy_val_data, clean_val_data = func.process_batch(data)       \n",
    "            val_result, val_mu, val_logvar = vae(noisy_val_data)\n",
    "            val_loss += loss_function(val_result, clean_val_data, val_mu, val_logvar).item()\n",
    "            \n",
    "        val_losses.append(val_loss/len(val_loader.dataset))\n",
    "\n",
    "        print(\"Train Epoch: \", epoch, \"\\tAverage Training Loss: \", train_loss/len(train_loader.dataset))\n",
    "        print(\"Train Epoch: \", epoch, \"\\tAverage Validation Loss: \", val_loss/len(val_loader.dataset))\n",
    "        \n",
    "        torch.save({\"state_dict\": vae.state_dict(),\n",
    "                    \"optim\": optimizer.state_dict()}, trainedVAE)\n",
    "        np.savez(\"losses.npz\", train_losses = train_losses, val_losses = val_losses)\n",
    "\n",
    "    return train_losses, val_losses"
   ]
  },
  {
   "cell_type": "markdown",
   "metadata": {},
   "source": [
    "#### Testing"
   ]
  },
  {
   "cell_type": "code",
   "execution_count": 24,
   "metadata": {},
   "outputs": [],
   "source": [
    "def test(epochs):\n",
    "    vae.eval()\n",
    "    test_losses = []\n",
    "    results = []\n",
    "    \n",
    "    for epoch in range(epochs):\n",
    "        test_loss = 0\n",
    "        \n",
    "        for batch, data in enumerate(test_loader):\n",
    "            noisy_data, clean_data = func.process_batch(data)\n",
    "            result, mu, logvar = vae(noisy_data)\n",
    "            loss = loss_function(result, clean_data, mu, logvar)\n",
    "            test_loss += loss.item()            \n",
    "            results = func.convert_results(result, results)\n",
    "\n",
    "            print(\"Test Epoch: \", epoch, \"[\", batch * len(data), \"/\", len(test_loader.dataset), \"]\",\n",
    "                  \"\\tLoss: \", loss.item() / len(data))\n",
    "\n",
    "        test_losses.append(test_loss)\n",
    "        \n",
    "        print(\"Test Epoch: \", epoch, \"\\tAverage Loss: \", test_loss / len(test_loader.dataset))\n",
    "\n",
    "    return test_losses, results"
   ]
  },
  {
   "cell_type": "markdown",
   "metadata": {},
   "source": [
    "### Train Network"
   ]
  },
  {
   "cell_type": "code",
   "execution_count": 25,
   "metadata": {},
   "outputs": [],
   "source": [
    "### can be removed\n",
    "model = torch.load(trainedVAE)\n",
    "\n",
    "vae.load_state_dict(model[\"state_dict\"])\n",
    "optimizer.load_state_dict(model[\"optim\"])"
   ]
  },
  {
   "cell_type": "code",
   "execution_count": 26,
   "metadata": {
    "scrolled": true
   },
   "outputs": [
    {
     "name": "stdout",
     "output_type": "stream",
     "text": [
      "Train Epoch:  0 [ 0 / 133878 ] \tLoss:  2.9600692869280465e-05\n",
      "Train Epoch:  0 [ 10240 / 133878 ] \tLoss:  3.0485309252981097e-05\n",
      "Train Epoch:  0 [ 20480 / 133878 ] \tLoss:  2.9781769626424648e-05\n",
      "Train Epoch:  0 [ 30720 / 133878 ] \tLoss:  2.9244920369819738e-05\n",
      "Train Epoch:  0 [ 40960 / 133878 ] \tLoss:  2.9793714929837734e-05\n",
      "Train Epoch:  0 [ 51200 / 133878 ] \tLoss:  2.979777673317585e-05\n",
      "Train Epoch:  0 [ 61440 / 133878 ] \tLoss:  2.9352513593039475e-05\n",
      "Train Epoch:  0 [ 71680 / 133878 ] \tLoss:  2.9674676625290886e-05\n",
      "Train Epoch:  0 [ 81920 / 133878 ] \tLoss:  2.9510161766665988e-05\n",
      "Train Epoch:  0 [ 92160 / 133878 ] \tLoss:  2.9752696718787774e-05\n",
      "Train Epoch:  0 [ 102400 / 133878 ] \tLoss:  2.9571787308668718e-05\n",
      "Train Epoch:  0 [ 112640 / 133878 ] \tLoss:  2.916440826083999e-05\n",
      "Train Epoch:  0 [ 122880 / 133878 ] \tLoss:  2.9027867640252225e-05\n",
      "Train Epoch:  0 [ 98540 / 133878 ] \tLoss:  3.854684177835258e-05\n",
      "Train Epoch:  0 \tAverage Training Loss:  2.9613037888298424e-05\n",
      "Train Epoch:  0 \tAverage Validation Loss:  2.8891685561912525e-05\n",
      "Train Epoch:  1 [ 0 / 133878 ] \tLoss:  2.9119724786141887e-05\n",
      "Train Epoch:  1 [ 10240 / 133878 ] \tLoss:  2.8581875085365027e-05\n",
      "Train Epoch:  1 [ 20480 / 133878 ] \tLoss:  2.917444180638995e-05\n",
      "Train Epoch:  1 [ 30720 / 133878 ] \tLoss:  2.8793114324798808e-05\n",
      "Train Epoch:  1 [ 40960 / 133878 ] \tLoss:  2.858491825463716e-05\n",
      "Train Epoch:  1 [ 51200 / 133878 ] \tLoss:  2.918972313636914e-05\n",
      "Train Epoch:  1 [ 61440 / 133878 ] \tLoss:  2.8257039957679808e-05\n",
      "Train Epoch:  1 [ 71680 / 133878 ] \tLoss:  2.8775368264177814e-05\n",
      "Train Epoch:  1 [ 81920 / 133878 ] \tLoss:  2.8226797439856455e-05\n",
      "Train Epoch:  1 [ 92160 / 133878 ] \tLoss:  2.8396663765306585e-05\n",
      "Train Epoch:  1 [ 102400 / 133878 ] \tLoss:  2.909192153310869e-05\n",
      "Train Epoch:  1 [ 112640 / 133878 ] \tLoss:  2.84778270724928e-05\n",
      "Train Epoch:  1 [ 122880 / 133878 ] \tLoss:  2.872763798222877e-05\n",
      "Train Epoch:  1 [ 98540 / 133878 ] \tLoss:  3.8117639681122865e-05\n",
      "Train Epoch:  1 \tAverage Training Loss:  2.883727398182572e-05\n",
      "Train Epoch:  1 \tAverage Validation Loss:  2.8742316328449014e-05\n",
      "Train Epoch:  2 [ 0 / 133878 ] \tLoss:  2.8215363272465765e-05\n",
      "Train Epoch:  2 [ 10240 / 133878 ] \tLoss:  2.8674923669314012e-05\n",
      "Train Epoch:  2 [ 20480 / 133878 ] \tLoss:  2.9207969419076107e-05\n",
      "Train Epoch:  2 [ 30720 / 133878 ] \tLoss:  2.8570639187819324e-05\n",
      "Train Epoch:  2 [ 40960 / 133878 ] \tLoss:  2.8300093617872335e-05\n",
      "Train Epoch:  2 [ 51200 / 133878 ] \tLoss:  2.8181833840790205e-05\n",
      "Train Epoch:  2 [ 61440 / 133878 ] \tLoss:  2.857459185179323e-05\n",
      "Train Epoch:  2 [ 71680 / 133878 ] \tLoss:  2.8274069336475804e-05\n",
      "Train Epoch:  2 [ 81920 / 133878 ] \tLoss:  2.8352269509923644e-05\n",
      "Train Epoch:  2 [ 92160 / 133878 ] \tLoss:  2.8606687919818796e-05\n",
      "Train Epoch:  2 [ 102400 / 133878 ] \tLoss:  2.8232501790625975e-05\n",
      "Train Epoch:  2 [ 112640 / 133878 ] \tLoss:  2.7703810701495968e-05\n",
      "Train Epoch:  2 [ 122880 / 133878 ] \tLoss:  2.7560730814002454e-05\n",
      "Train Epoch:  2 [ 98540 / 133878 ] \tLoss:  3.840626367321115e-05\n",
      "Train Epoch:  2 \tAverage Training Loss:  2.826224479617112e-05\n",
      "Train Epoch:  2 \tAverage Validation Loss:  2.895420932872965e-05\n",
      "Train Epoch:  3 [ 0 / 133878 ] \tLoss:  2.8260747058084235e-05\n",
      "Train Epoch:  3 [ 10240 / 133878 ] \tLoss:  2.752618456725031e-05\n",
      "Train Epoch:  3 [ 20480 / 133878 ] \tLoss:  2.7921918444917537e-05\n",
      "Train Epoch:  3 [ 30720 / 133878 ] \tLoss:  2.8292510251048952e-05\n",
      "Train Epoch:  3 [ 40960 / 133878 ] \tLoss:  2.7826927180285566e-05\n",
      "Train Epoch:  3 [ 51200 / 133878 ] \tLoss:  2.8387459678924643e-05\n",
      "Train Epoch:  3 [ 61440 / 133878 ] \tLoss:  2.7384938221075572e-05\n",
      "Train Epoch:  3 [ 71680 / 133878 ] \tLoss:  2.777812915155664e-05\n",
      "Train Epoch:  3 [ 81920 / 133878 ] \tLoss:  2.7870168196386658e-05\n",
      "Train Epoch:  3 [ 92160 / 133878 ] \tLoss:  2.7272553779766895e-05\n",
      "Train Epoch:  3 [ 102400 / 133878 ] \tLoss:  2.7596383006311953e-05\n",
      "Train Epoch:  3 [ 112640 / 133878 ] \tLoss:  2.7140366000821814e-05\n",
      "Train Epoch:  3 [ 122880 / 133878 ] \tLoss:  2.7582333132158965e-05\n",
      "Train Epoch:  3 [ 98540 / 133878 ] \tLoss:  3.647809912079557e-05\n",
      "Train Epoch:  3 \tAverage Training Loss:  2.782023919130184e-05\n",
      "Train Epoch:  3 \tAverage Validation Loss:  2.7396494018637376e-05\n",
      "Train Epoch:  4 [ 0 / 133878 ] \tLoss:  2.7834861612063833e-05\n",
      "Train Epoch:  4 [ 10240 / 133878 ] \tLoss:  2.722226781770587e-05\n",
      "Train Epoch:  4 [ 20480 / 133878 ] \tLoss:  2.7710966605809517e-05\n",
      "Train Epoch:  4 [ 30720 / 133878 ] \tLoss:  2.730864980549086e-05\n",
      "Train Epoch:  4 [ 40960 / 133878 ] \tLoss:  2.669545756361913e-05\n",
      "Train Epoch:  4 [ 51200 / 133878 ] \tLoss:  2.7517286071088165e-05\n",
      "Train Epoch:  4 [ 61440 / 133878 ] \tLoss:  2.7024261726182885e-05\n",
      "Train Epoch:  4 [ 71680 / 133878 ] \tLoss:  2.7178257369087078e-05\n",
      "Train Epoch:  4 [ 81920 / 133878 ] \tLoss:  2.7303267415845767e-05\n",
      "Train Epoch:  4 [ 92160 / 133878 ] \tLoss:  2.7460333512863144e-05\n",
      "Train Epoch:  4 [ 102400 / 133878 ] \tLoss:  2.7617032174021006e-05\n",
      "Train Epoch:  4 [ 112640 / 133878 ] \tLoss:  2.760075221885927e-05\n",
      "Train Epoch:  4 [ 122880 / 133878 ] \tLoss:  2.7372465410735458e-05\n",
      "Train Epoch:  4 [ 98540 / 133878 ] \tLoss:  3.666747459714205e-05\n",
      "Train Epoch:  4 \tAverage Training Loss:  2.7364956406717363e-05\n",
      "Train Epoch:  4 \tAverage Validation Loss:  2.756550336105698e-05\n",
      "Train Epoch:  5 [ 0 / 133878 ] \tLoss:  2.6504279958317056e-05\n",
      "Train Epoch:  5 [ 10240 / 133878 ] \tLoss:  2.6797559257829562e-05\n",
      "Train Epoch:  5 [ 20480 / 133878 ] \tLoss:  2.729160951275844e-05\n",
      "Train Epoch:  5 [ 30720 / 133878 ] \tLoss:  2.6725912903202698e-05\n",
      "Train Epoch:  5 [ 40960 / 133878 ] \tLoss:  2.7131498427479528e-05\n",
      "Train Epoch:  5 [ 51200 / 133878 ] \tLoss:  2.6942398108076304e-05\n",
      "Train Epoch:  5 [ 61440 / 133878 ] \tLoss:  2.6451842131791636e-05\n",
      "Train Epoch:  5 [ 71680 / 133878 ] \tLoss:  2.6665793484426104e-05\n",
      "Train Epoch:  5 [ 81920 / 133878 ] \tLoss:  2.653127558005508e-05\n",
      "Train Epoch:  5 [ 92160 / 133878 ] \tLoss:  2.6466450435691513e-05\n",
      "Train Epoch:  5 [ 102400 / 133878 ] \tLoss:  2.6652411179384217e-05\n",
      "Train Epoch:  5 [ 112640 / 133878 ] \tLoss:  2.648087865964044e-05\n",
      "Train Epoch:  5 [ 122880 / 133878 ] \tLoss:  2.742943979683332e-05\n",
      "Train Epoch:  5 [ 98540 / 133878 ] \tLoss:  3.560303432724407e-05\n",
      "Train Epoch:  5 \tAverage Training Loss:  2.698260860821175e-05\n",
      "Train Epoch:  5 \tAverage Validation Loss:  2.6766021278829157e-05\n",
      "Train Epoch:  6 [ 0 / 133878 ] \tLoss:  2.6680938390200026e-05\n",
      "Train Epoch:  6 [ 10240 / 133878 ] \tLoss:  2.6712486942415126e-05\n",
      "Train Epoch:  6 [ 20480 / 133878 ] \tLoss:  2.693945680221077e-05\n",
      "Train Epoch:  6 [ 30720 / 133878 ] \tLoss:  2.6597064788802527e-05\n",
      "Train Epoch:  6 [ 40960 / 133878 ] \tLoss:  2.6573312425171025e-05\n",
      "Train Epoch:  6 [ 51200 / 133878 ] \tLoss:  2.726400998653844e-05\n",
      "Train Epoch:  6 [ 61440 / 133878 ] \tLoss:  2.6897305360762402e-05\n",
      "Train Epoch:  6 [ 71680 / 133878 ] \tLoss:  2.6859483114094473e-05\n",
      "Train Epoch:  6 [ 81920 / 133878 ] \tLoss:  2.6788891773321666e-05\n",
      "Train Epoch:  6 [ 92160 / 133878 ] \tLoss:  2.6966725272359326e-05\n",
      "Train Epoch:  6 [ 102400 / 133878 ] \tLoss:  2.662841507117264e-05\n",
      "Train Epoch:  6 [ 112640 / 133878 ] \tLoss:  2.6271274691680446e-05\n",
      "Train Epoch:  6 [ 122880 / 133878 ] \tLoss:  2.6844187232200056e-05\n",
      "Train Epoch:  6 [ 98540 / 133878 ] \tLoss:  3.5986407490393103e-05\n",
      "Train Epoch:  6 \tAverage Training Loss:  2.663908522823133e-05\n",
      "Train Epoch:  6 \tAverage Validation Loss:  2.7126087211743812e-05\n",
      "Train Epoch:  7 [ 0 / 133878 ] \tLoss:  2.583235254860483e-05\n",
      "Train Epoch:  7 [ 10240 / 133878 ] \tLoss:  2.617400787130464e-05\n",
      "Train Epoch:  7 [ 20480 / 133878 ] \tLoss:  2.6020861696451902e-05\n",
      "Train Epoch:  7 [ 30720 / 133878 ] \tLoss:  2.639059857756365e-05\n",
      "Train Epoch:  7 [ 40960 / 133878 ] \tLoss:  2.6260810045641847e-05\n",
      "Train Epoch:  7 [ 51200 / 133878 ] \tLoss:  2.5645138521213084e-05\n",
      "Train Epoch:  7 [ 61440 / 133878 ] \tLoss:  2.6055105990963057e-05\n",
      "Train Epoch:  7 [ 71680 / 133878 ] \tLoss:  2.5810475563048385e-05\n",
      "Train Epoch:  7 [ 81920 / 133878 ] \tLoss:  2.595767546154093e-05\n",
      "Train Epoch:  7 [ 92160 / 133878 ] \tLoss:  2.5933484721463174e-05\n",
      "Train Epoch:  7 [ 102400 / 133878 ] \tLoss:  2.5636560167185962e-05\n",
      "Train Epoch:  7 [ 112640 / 133878 ] \tLoss:  2.57412302744342e-05\n",
      "Train Epoch:  7 [ 122880 / 133878 ] \tLoss:  2.5923050998244435e-05\n",
      "Train Epoch:  7 [ 98540 / 133878 ] \tLoss:  3.432830191146101e-05\n"
     ]
    },
    {
     "name": "stdout",
     "output_type": "stream",
     "text": [
      "Train Epoch:  7 \tAverage Training Loss:  2.615375628195109e-05\n",
      "Train Epoch:  7 \tAverage Validation Loss:  2.5815129168019728e-05\n"
     ]
    }
   ],
   "source": [
    "train_losses, val_losses = train(8)"
   ]
  },
  {
   "cell_type": "markdown",
   "metadata": {},
   "source": [
    "#### Plot Losses"
   ]
  },
  {
   "cell_type": "code",
   "execution_count": 27,
   "metadata": {},
   "outputs": [
    {
     "data": {
      "image/png": "[encoded data removed]",
      "text/plain": [
       "<Figure size 432x288 with 1 Axes>"
      ]
     },
     "metadata": {
      "needs_background": "light"
     },
     "output_type": "display_data"
    }
   ],
   "source": [
    "f1 = plt.figure()\n",
    "ax = f1.add_subplot(111)\n",
    "ax.plot(train_losses[1:], label=\"Training Loss\")\n",
    "ax.plot(val_losses[1:], label=\"Validation Loss\")\n",
    "ax.legend()\n",
    "ax.set_title(\"Training Loss\")\n",
    "ax.set_xlabel(\"epochs\")\n",
    "ax.set_ylabel(\"loss\")\n",
    "f1.savefig(\"training_losses.png\")"
   ]
  },
  {
   "cell_type": "markdown",
   "metadata": {},
   "source": [
    "### Test Network"
   ]
  },
  {
   "cell_type": "code",
   "execution_count": 28,
   "metadata": {},
   "outputs": [
    {
     "name": "stdout",
     "output_type": "stream",
     "text": [
      "Test Epoch:  0 [ 0 / 8689 ] \tLoss:  2.2545220417669043e-05\n",
      "Test Epoch:  0 [ 1024 / 8689 ] \tLoss:  2.2980293579166755e-05\n",
      "Test Epoch:  0 [ 2048 / 8689 ] \tLoss:  2.357387165830005e-05\n",
      "Test Epoch:  0 [ 3072 / 8689 ] \tLoss:  2.409341323073022e-05\n",
      "Test Epoch:  0 [ 4096 / 8689 ] \tLoss:  2.314772063982673e-05\n",
      "Test Epoch:  0 [ 5120 / 8689 ] \tLoss:  2.2332562366500497e-05\n",
      "Test Epoch:  0 [ 6144 / 8689 ] \tLoss:  2.212718754890375e-05\n",
      "Test Epoch:  0 [ 7168 / 8689 ] \tLoss:  2.107146974594798e-05\n",
      "Test Epoch:  0 [ 3976 / 8689 ] \tLoss:  4.285695387324097e-05\n",
      "Test Epoch:  0 \tAverage Loss:  2.3884977212859345e-05\n"
     ]
    }
   ],
   "source": [
    "test_losses, testing_results = test(1)\n",
    "\n",
    "### can be removed\n",
    "with open('test_results.npz', 'wb') as f:\n",
    "    np.savez(f, results = testing_results)"
   ]
  },
  {
   "cell_type": "code",
   "execution_count": 29,
   "metadata": {},
   "outputs": [
    {
     "name": "stdout",
     "output_type": "stream",
     "text": [
      "(8689, 112, 256)\n"
     ]
    }
   ],
   "source": [
    "### can be removed\n",
    "testing_results = np.load('test_results.npz')['results']\n",
    "print(testing_results.shape)"
   ]
  },
  {
   "cell_type": "markdown",
   "metadata": {},
   "source": [
    "### Process Testing Results"
   ]
  },
  {
   "cell_type": "markdown",
   "metadata": {},
   "source": [
    "#### Create Split Indices\n",
    "Finds indices on which to split the testing results data, in order to make sure that all the sound chunks belonging to a speech sample are in the same array."
   ]
  },
  {
   "cell_type": "code",
   "execution_count": 30,
   "metadata": {},
   "outputs": [],
   "source": [
    "split_indices = func.create_split_indices(testing_noisy_dir_chunks)  "
   ]
  },
  {
   "cell_type": "markdown",
   "metadata": {},
   "source": [
    "#### Convert Spectrograms Back To Sound\n",
    "Convert all the spectrograms that are created by the network back to sound fragments."
   ]
  },
  {
   "cell_type": "code",
   "execution_count": 31,
   "metadata": {},
   "outputs": [],
   "source": [
    "audio = func.spec_to_sound(testing_results)"
   ]
  },
  {
   "cell_type": "markdown",
   "metadata": {},
   "source": [
    "#### Split Data\n",
    "Splits the data on the indices previously computed."
   ]
  },
  {
   "cell_type": "code",
   "execution_count": 32,
   "metadata": {},
   "outputs": [],
   "source": [
    "sound_chunks = np.split(audio, split_indices)"
   ]
  },
  {
   "cell_type": "markdown",
   "metadata": {},
   "source": [
    "#### Save Sound Fragmets\n",
    "Appends all sound chunks belonging to a speech sample and saves them in a directory."
   ]
  },
  {
   "cell_type": "code",
   "execution_count": 33,
   "metadata": {},
   "outputs": [],
   "source": [
    "func.save_sound_to_dir(sound_chunks, new_rate, testing_noisy_dir, testing_results_dir)"
   ]
  },
  {
   "cell_type": "markdown",
   "metadata": {},
   "source": [
    "### CI simulator"
   ]
  },
  {
   "cell_type": "markdown",
   "metadata": {},
   "source": [
    "#### Compute Frequency Ranges"
   ]
  },
  {
   "cell_type": "code",
   "execution_count": 5,
   "metadata": {},
   "outputs": [],
   "source": [
    "nr_channels = 22\n",
    "freq_ranges = freqs.compute_frequency_ranges(nr_channels)"
   ]
  },
  {
   "cell_type": "markdown",
   "metadata": {},
   "source": [
    "#### Create Simulated Data\n",
    "Creates simulated data for both the original noisy data, as well as the data generated by the network."
   ]
  },
  {
   "cell_type": "code",
   "execution_count": 8,
   "metadata": {},
   "outputs": [],
   "source": [
    "samples = 15\n",
    "func.convert_to_sim_data(testing_noisy_dir, testing_noisy_dir_simulated, freq_ranges, samples)\n",
    "func.convert_to_sim_data(testing_results_dir, testing_results_dir_simulated, freq_ranges, samples)"
   ]
  },
  {
   "cell_type": "code",
   "execution_count": null,
   "metadata": {},
   "outputs": [],
   "source": []
  }
 ],
 "metadata": {
  "kernelspec": {
   "display_name": "Python 3",
   "language": "python",
   "name": "python3"
  },
  "language_info": {
   "codemirror_mode": {
    "name": "ipython",
    "version": 3
   },
   "file_extension": ".py",
   "mimetype": "text/x-python",
   "name": "python",
   "nbconvert_exporter": "python",
   "pygments_lexer": "ipython3",
   "version": "3.7.3"
  }
 },
 "nbformat": 4,
 "nbformat_minor": 2
}
